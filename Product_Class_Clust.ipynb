{
 "cells": [
  {
   "cell_type": "markdown",
   "metadata": {},
   "source": [
    "# Liabrary"
   ]
  },
  {
   "cell_type": "code",
   "execution_count": 3,
   "metadata": {},
   "outputs": [],
   "source": [
    "import pandas as pd\n",
    "import numpy as np"
   ]
  },
  {
   "cell_type": "markdown",
   "metadata": {},
   "source": [
    "# Dataframe"
   ]
  },
  {
   "cell_type": "code",
   "execution_count": 4,
   "metadata": {},
   "outputs": [],
   "source": [
    "df=pd.read_csv(\"C:\\\\Users\\\\Saravanan\\\\OneDrive\\\\Desktop\\\\Datasets_data\\\\pricerunner_aggregate.csv\")"
   ]
  },
  {
   "cell_type": "code",
   "execution_count": 5,
   "metadata": {},
   "outputs": [
    {
     "data": {
      "text/html": [
       "<div>\n",
       "<style scoped>\n",
       "    .dataframe tbody tr th:only-of-type {\n",
       "        vertical-align: middle;\n",
       "    }\n",
       "\n",
       "    .dataframe tbody tr th {\n",
       "        vertical-align: top;\n",
       "    }\n",
       "\n",
       "    .dataframe thead th {\n",
       "        text-align: right;\n",
       "    }\n",
       "</style>\n",
       "<table border=\"1\" class=\"dataframe\">\n",
       "  <thead>\n",
       "    <tr style=\"text-align: right;\">\n",
       "      <th></th>\n",
       "      <th>Product ID</th>\n",
       "      <th>Product Title</th>\n",
       "      <th>Merchant ID</th>\n",
       "      <th>Cluster ID</th>\n",
       "      <th>Cluster Label</th>\n",
       "      <th>Category ID</th>\n",
       "      <th>Category Label</th>\n",
       "    </tr>\n",
       "  </thead>\n",
       "  <tbody>\n",
       "    <tr>\n",
       "      <th>0</th>\n",
       "      <td>1</td>\n",
       "      <td>apple iphone 8 plus 64gb silver</td>\n",
       "      <td>1</td>\n",
       "      <td>1</td>\n",
       "      <td>Apple iPhone 8 Plus 64GB</td>\n",
       "      <td>2612</td>\n",
       "      <td>Mobile Phones</td>\n",
       "    </tr>\n",
       "    <tr>\n",
       "      <th>1</th>\n",
       "      <td>2</td>\n",
       "      <td>apple iphone 8 plus 64 gb spacegrau</td>\n",
       "      <td>2</td>\n",
       "      <td>1</td>\n",
       "      <td>Apple iPhone 8 Plus 64GB</td>\n",
       "      <td>2612</td>\n",
       "      <td>Mobile Phones</td>\n",
       "    </tr>\n",
       "    <tr>\n",
       "      <th>2</th>\n",
       "      <td>3</td>\n",
       "      <td>apple mq8n2b/a iphone 8 plus 64gb 5.5 12mp sim...</td>\n",
       "      <td>3</td>\n",
       "      <td>1</td>\n",
       "      <td>Apple iPhone 8 Plus 64GB</td>\n",
       "      <td>2612</td>\n",
       "      <td>Mobile Phones</td>\n",
       "    </tr>\n",
       "    <tr>\n",
       "      <th>3</th>\n",
       "      <td>4</td>\n",
       "      <td>apple iphone 8 plus 64gb space grey</td>\n",
       "      <td>4</td>\n",
       "      <td>1</td>\n",
       "      <td>Apple iPhone 8 Plus 64GB</td>\n",
       "      <td>2612</td>\n",
       "      <td>Mobile Phones</td>\n",
       "    </tr>\n",
       "    <tr>\n",
       "      <th>4</th>\n",
       "      <td>5</td>\n",
       "      <td>apple iphone 8 plus gold 5.5 64gb 4g unlocked ...</td>\n",
       "      <td>5</td>\n",
       "      <td>1</td>\n",
       "      <td>Apple iPhone 8 Plus 64GB</td>\n",
       "      <td>2612</td>\n",
       "      <td>Mobile Phones</td>\n",
       "    </tr>\n",
       "    <tr>\n",
       "      <th>...</th>\n",
       "      <td>...</td>\n",
       "      <td>...</td>\n",
       "      <td>...</td>\n",
       "      <td>...</td>\n",
       "      <td>...</td>\n",
       "      <td>...</td>\n",
       "      <td>...</td>\n",
       "    </tr>\n",
       "    <tr>\n",
       "      <th>35306</th>\n",
       "      <td>47350</td>\n",
       "      <td>smeg fab28 60cm retro style right hand hinge f...</td>\n",
       "      <td>59</td>\n",
       "      <td>47517</td>\n",
       "      <td>Smeg FAB28 Cream</td>\n",
       "      <td>2623</td>\n",
       "      <td>Fridges</td>\n",
       "    </tr>\n",
       "    <tr>\n",
       "      <th>35307</th>\n",
       "      <td>47351</td>\n",
       "      <td>smeg fab28 60cm retro style left hand hinge fr...</td>\n",
       "      <td>59</td>\n",
       "      <td>47518</td>\n",
       "      <td>Smeg FAB28 Red</td>\n",
       "      <td>2623</td>\n",
       "      <td>Fridges</td>\n",
       "    </tr>\n",
       "    <tr>\n",
       "      <th>35308</th>\n",
       "      <td>47352</td>\n",
       "      <td>smeg fab28 60cm retro style left hand hinge fr...</td>\n",
       "      <td>59</td>\n",
       "      <td>47519</td>\n",
       "      <td>Smeg FAB28 Pink</td>\n",
       "      <td>2623</td>\n",
       "      <td>Fridges</td>\n",
       "    </tr>\n",
       "    <tr>\n",
       "      <th>35309</th>\n",
       "      <td>47355</td>\n",
       "      <td>candy 60cm built under larder fridge cru160nek</td>\n",
       "      <td>125</td>\n",
       "      <td>47524</td>\n",
       "      <td>Candy CRU16.0</td>\n",
       "      <td>2623</td>\n",
       "      <td>Fridges</td>\n",
       "    </tr>\n",
       "    <tr>\n",
       "      <th>35310</th>\n",
       "      <td>47358</td>\n",
       "      <td>neff k4316x7gb built under larder fridge</td>\n",
       "      <td>179</td>\n",
       "      <td>47525</td>\n",
       "      <td>Neff K4316</td>\n",
       "      <td>2623</td>\n",
       "      <td>Fridges</td>\n",
       "    </tr>\n",
       "  </tbody>\n",
       "</table>\n",
       "<p>35311 rows × 7 columns</p>\n",
       "</div>"
      ],
      "text/plain": [
       "       Product ID                                      Product Title  \\\n",
       "0               1                    apple iphone 8 plus 64gb silver   \n",
       "1               2                apple iphone 8 plus 64 gb spacegrau   \n",
       "2               3  apple mq8n2b/a iphone 8 plus 64gb 5.5 12mp sim...   \n",
       "3               4                apple iphone 8 plus 64gb space grey   \n",
       "4               5  apple iphone 8 plus gold 5.5 64gb 4g unlocked ...   \n",
       "...           ...                                                ...   \n",
       "35306       47350  smeg fab28 60cm retro style right hand hinge f...   \n",
       "35307       47351  smeg fab28 60cm retro style left hand hinge fr...   \n",
       "35308       47352  smeg fab28 60cm retro style left hand hinge fr...   \n",
       "35309       47355     candy 60cm built under larder fridge cru160nek   \n",
       "35310       47358           neff k4316x7gb built under larder fridge   \n",
       "\n",
       "        Merchant ID   Cluster ID             Cluster Label   Category ID  \\\n",
       "0                 1            1  Apple iPhone 8 Plus 64GB          2612   \n",
       "1                 2            1  Apple iPhone 8 Plus 64GB          2612   \n",
       "2                 3            1  Apple iPhone 8 Plus 64GB          2612   \n",
       "3                 4            1  Apple iPhone 8 Plus 64GB          2612   \n",
       "4                 5            1  Apple iPhone 8 Plus 64GB          2612   \n",
       "...             ...          ...                       ...           ...   \n",
       "35306            59        47517          Smeg FAB28 Cream          2623   \n",
       "35307            59        47518            Smeg FAB28 Red          2623   \n",
       "35308            59        47519           Smeg FAB28 Pink          2623   \n",
       "35309           125        47524             Candy CRU16.0          2623   \n",
       "35310           179        47525                Neff K4316          2623   \n",
       "\n",
       "       Category Label  \n",
       "0       Mobile Phones  \n",
       "1       Mobile Phones  \n",
       "2       Mobile Phones  \n",
       "3       Mobile Phones  \n",
       "4       Mobile Phones  \n",
       "...               ...  \n",
       "35306         Fridges  \n",
       "35307         Fridges  \n",
       "35308         Fridges  \n",
       "35309         Fridges  \n",
       "35310         Fridges  \n",
       "\n",
       "[35311 rows x 7 columns]"
      ]
     },
     "execution_count": 5,
     "metadata": {},
     "output_type": "execute_result"
    }
   ],
   "source": [
    "df"
   ]
  },
  {
   "cell_type": "markdown",
   "metadata": {},
   "source": [
    "# Observation\n",
    "\n",
    "Dependent Column - Product Title\n",
    "Independent Column - Merchant ID,Cluster ID,Cluster Label,Category ID,Category Label"
   ]
  },
  {
   "cell_type": "code",
   "execution_count": 6,
   "metadata": {},
   "outputs": [],
   "source": [
    "Continuous_Column=['Product ID']\n",
    "Categorical_Column=['Product Title','Merchant ID','Cluster ID','Cluster Label','Category ID','Category Label']"
   ]
  },
  {
   "cell_type": "markdown",
   "metadata": {},
   "source": [
    "# Data Cleaning"
   ]
  },
  {
   "cell_type": "code",
   "execution_count": 7,
   "metadata": {},
   "outputs": [
    {
     "name": "stdout",
     "output_type": "stream",
     "text": [
      "<class 'pandas.core.frame.DataFrame'>\n",
      "RangeIndex: 35311 entries, 0 to 35310\n",
      "Data columns (total 7 columns):\n",
      " #   Column           Non-Null Count  Dtype \n",
      "---  ------           --------------  ----- \n",
      " 0   Product ID       35311 non-null  int64 \n",
      " 1   Product Title    35311 non-null  object\n",
      " 2    Merchant ID     35311 non-null  int64 \n",
      " 3    Cluster ID      35311 non-null  int64 \n",
      " 4    Cluster Label   35311 non-null  object\n",
      " 5    Category ID     35311 non-null  int64 \n",
      " 6    Category Label  35311 non-null  object\n",
      "dtypes: int64(4), object(3)\n",
      "memory usage: 1.9+ MB\n"
     ]
    }
   ],
   "source": [
    "df.info()"
   ]
  },
  {
   "cell_type": "code",
   "execution_count": 8,
   "metadata": {},
   "outputs": [
    {
     "data": {
      "text/plain": [
       "Product ID         0\n",
       "Product Title      0\n",
       " Merchant ID       0\n",
       " Cluster ID        0\n",
       " Cluster Label     0\n",
       " Category ID       0\n",
       " Category Label    0\n",
       "dtype: int64"
      ]
     },
     "execution_count": 8,
     "metadata": {},
     "output_type": "execute_result"
    }
   ],
   "source": [
    "df.isnull().sum()"
   ]
  },
  {
   "cell_type": "code",
   "execution_count": 9,
   "metadata": {},
   "outputs": [
    {
     "data": {
      "text/plain": [
       "0"
      ]
     },
     "execution_count": 9,
     "metadata": {},
     "output_type": "execute_result"
    }
   ],
   "source": [
    "df.duplicated().sum()"
   ]
  },
  {
   "cell_type": "markdown",
   "metadata": {},
   "source": [
    "# Statistical analysis\n",
    "Continuous - Central Limit Theorem, 1-Tailed Test (one-sample t-test)\n",
    "\n",
    "Continuous vs. Continuous - Correlation, 2-Tailed Test (two-sample t-test)\n",
    "\n",
    "Continuous vs. Categorical - ANOVA (Analysis of Variance)\n",
    "\n",
    "Categorical vs. Categorical - Chi-Square Test"
   ]
  },
  {
   "cell_type": "code",
   "execution_count": 10,
   "metadata": {},
   "outputs": [
    {
     "ename": "TypeError",
     "evalue": "DataFrame.select_dtypes() got an unexpected keyword argument 'inplace'",
     "output_type": "error",
     "traceback": [
      "\u001b[1;31m---------------------------------------------------------------------------\u001b[0m",
      "\u001b[1;31mTypeError\u001b[0m                                 Traceback (most recent call last)",
      "Cell \u001b[1;32mIn[10], line 1\u001b[0m\n\u001b[1;32m----> 1\u001b[0m number_df\u001b[38;5;241m=\u001b[39m\u001b[43mdf\u001b[49m\u001b[38;5;241;43m.\u001b[39;49m\u001b[43mselect_dtypes\u001b[49m\u001b[43m(\u001b[49m\u001b[43minplace\u001b[49m\u001b[38;5;241;43m=\u001b[39;49m\u001b[38;5;28;43;01mTrue\u001b[39;49;00m\u001b[43m)\u001b[49m\n\u001b[0;32m      2\u001b[0m corr_m\u001b[38;5;241m=\u001b[39mnumber_df\u001b[38;5;241m.\u001b[39mcorr()\n\u001b[0;32m      3\u001b[0m corr_m\n",
      "\u001b[1;31mTypeError\u001b[0m: DataFrame.select_dtypes() got an unexpected keyword argument 'inplace'"
     ]
    }
   ],
   "source": [
    "number_df=df.select_dtypes(inplace=True)\n",
    "corr_m=number_df.corr()\n",
    "corr_m"
   ]
  },
  {
   "cell_type": "code",
   "execution_count": null,
   "metadata": {},
   "outputs": [],
   "source": [
    "Continuous_Column=['Product ID']\n",
    "Categorical_Column=['Product Title','Merchant ID','Cluster ID','Cluster Label','Category ID','Category Label']"
   ]
  },
  {
   "cell_type": "code",
   "execution_count": null,
   "metadata": {},
   "outputs": [],
   "source": [
    "def hypothesis_testing(df,Continuous_Column=[],Categorical_Column=[],sample_rate=20,sample_frac=0.05):\n",
    "    df=df\n",
    "    # central limit theoram\n",
    "    onecontinuouscolumn_Result={}\n",
    "    hypothesis_df=pd.DataFrame(columns=df.columns,index=df.columns)\n",
    "    if Continuous_Column:\n",
    "        sample_size=int(sample_rate*len(df[Continuous_Column[0]]))\n",
    "        for column in Continuous_Column:\n",
    "            population=df[column].values\n",
    "            population_mean=population.mean()\n",
    "            sample_mean=[]\n",
    "            for i in range(40):\n",
    "                sample=np.random.choice(population,sample_size)\n",
    "                sample_mean.append(sample.mean())\n",
    "            onecontinuouscolumn_Result[column]={\n",
    "                \"Population Mean\":population_mean,\n",
    "                \"Sample Mean\":{np.mean(sample_mean)}\n",
    "                                                }\n",
    "    return onecontinuouscolumn_Result,hypothesis_df"
   ]
  }
 ],
 "metadata": {
  "kernelspec": {
   "display_name": ".venv",
   "language": "python",
   "name": "python3"
  },
  "language_info": {
   "codemirror_mode": {
    "name": "ipython",
    "version": 3
   },
   "file_extension": ".py",
   "mimetype": "text/x-python",
   "name": "python",
   "nbconvert_exporter": "python",
   "pygments_lexer": "ipython3",
   "version": "3.11.9"
  }
 },
 "nbformat": 4,
 "nbformat_minor": 2
}
